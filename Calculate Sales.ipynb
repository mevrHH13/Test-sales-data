{
 "cells": [
  {
   "cell_type": "code",
   "execution_count": 0,
   "metadata": {
    "application/vnd.databricks.v1+cell": {
     "cellMetadata": {
      "byteLimit": 2048000,
      "implicitDf": true,
      "rowLimit": 10000
     },
     "inputWidgets": {},
     "nuid": "6726dac0-e0ed-4ba4-bf39-8519c34441d4",
     "showTitle": false,
     "tableResultSettingsMap": {},
     "title": ""
    }
   },
   "outputs": [],
   "source": [
    "%sql\n",
    "create or replace table workspace.nw_schema_testdata.tb_calculate_sales as \n",
    "select to_date(current_date()) as rundate\n",
    ",      dat.franchiseID\n",
    ",      fra.city\n",
    ",      product\n",
    ",      extract(year from dat.dateTime ) || '-' ||extract(month from dat.dateTime ) tst\n",
    ",      sum(quantity) as total_per_product\n",
    "from samples.bakehouse.sales_transactions  dat\n",
    "left join samples.bakehouse.sales_franchises fra on ( dat.franchiseID = fra.franchiseID )\n",
    "group by to_date(current_date())\n",
    ",        dat.franchiseID\n",
    ",        fra.city\n",
    ",        product\n",
    ",        extract(year from dat.dateTime ) || '-' ||extract(month from dat.dateTime ) \n",
    "order by 1, 2, 3"
   ]
  }
 ],
 "metadata": {
  "application/vnd.databricks.v1+notebook": {
   "computePreferences": null,
   "dashboards": [],
   "environmentMetadata": {
    "base_environment": "",
    "environment_version": "2"
   },
   "inputWidgetPreferences": null,
   "language": "python",
   "notebookMetadata": {
    "mostRecentlyExecutedCommandWithImplicitDF": {
     "commandId": 6142823733333217,
     "dataframes": [
      "_sqldf"
     ]
    },
    "pythonIndentUnit": 4
   },
   "notebookName": "Calculate Sales",
   "widgets": {}
  },
  "language_info": {
   "name": "python"
  }
 },
 "nbformat": 4,
 "nbformat_minor": 0
}
