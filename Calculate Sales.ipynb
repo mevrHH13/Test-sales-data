{
 "cells": [
  {
   "cell_type": "code",
   "execution_count": 0,
   "metadata": {
    "application/vnd.databricks.v1+cell": {
     "cellMetadata": {
      "byteLimit": 2048000,
      "implicitDf": true,
      "rowLimit": 10000
     },
     "inputWidgets": {},
     "nuid": "6726dac0-e0ed-4ba4-bf39-8519c34441d4",
     "showTitle": false,
     "tableResultSettingsMap": {},
     "title": ""
    }
   },
   "outputs": [],
   "source": [
    "%sql\n",
    "create or replace table workspace.nw_schema_testdata.tb_calculate_sales as \n",
    "select to_date(current_date()) as rundate\n",
    ",      dat.franchiseID\n",
    ",      fra.city\n",
    ",      product\n",
    ",      extract(year from dat.dateTime ) || '-' ||extract(month from dat.dateTime ) tst\n",
    ",      sum(quantity) as total_per_product\n",
    "from samples.bakehouse.sales_transactions  dat\n",
    "left join samples.bakehouse.sales_franchises fra on ( dat.franchiseID = fra.franchiseID )\n",
    "group by to_date(current_date())\n",
    ",        dat.franchiseID\n",
    ",        fra.city\n",
    ",        product\n",
    ",        extract(year from dat.dateTime ) || '-' ||extract(month from dat.dateTime ) \n",
    "order by 1, 2, 3"
   ]
  },
  {
   "cell_type": "code",
   "execution_count": 0,
   "metadata": {
    "application/vnd.databricks.v1+cell": {
     "cellMetadata": {},
     "inputWidgets": {},
     "nuid": "e8288286-3d92-4cfc-adb4-6a23c6afff96",
     "showTitle": false,
     "tableResultSettingsMap": {},
     "title": ""
    }
   },
   "outputs": [],
   "source": [
    "%sql\n",
    "create or replace table workspace.nw_schema_testdata.tb_calculate_customers as \n",
    "select dat.franchiseID\n",
    ",      count(distinct dat.transactionID) as total_transactions\n",
    ",     sum(case when lower(gender) like 'female' then 1 end) as sum_female_customers\n",
    ",      sum(case when lower(gender) like 'male' then 1 end) as sum_male_customers\n",
    "from samples.bakehouse.sales_transactions  dat\n",
    "join samples.bakehouse.sales_customers cus on ( substr(dat.customerID, 5,3) = substr(cus.customerID,5,3))\n",
    "group by dat.franchiseID"
   ]
  }
 ],
 "metadata": {
  "application/vnd.databricks.v1+notebook": {
   "computePreferences": null,
   "dashboards": [],
   "environmentMetadata": {
    "base_environment": "",
    "environment_version": "2"
   },
   "inputWidgetPreferences": null,
   "language": "python",
   "notebookMetadata": {
    "mostRecentlyExecutedCommandWithImplicitDF": {
     "commandId": 6142823733333217,
     "dataframes": [
      "_sqldf"
     ]
    },
    "pythonIndentUnit": 4
   },
   "notebookName": "Calculate Sales",
   "widgets": {}
  },
  "language_info": {
   "name": "python"
  }
 },
 "nbformat": 4,
 "nbformat_minor": 0
}
